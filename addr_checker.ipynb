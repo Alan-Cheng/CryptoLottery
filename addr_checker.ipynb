{
 "cells": [
  {
   "cell_type": "code",
   "execution_count": 2,
   "metadata": {},
   "outputs": [],
   "source": [
    "#fuction to check the bitcon address\n",
    "\n",
    "import hashlib\n",
    "import base58\n",
    "import binascii\n",
    "\n",
    "def check_bitcoin_address(address):\n",
    "    #decode the base58 address to hex\n",
    "    decode = base58.b58decode(address)\n",
    "    #split the hex into two parts, the last 4 bytes are the checksum\n",
    "    decode, checksum = decode[:-4], decode[-4:]\n",
    "    #hash the decode hex 2 times with sha256\n",
    "    hash_decode = hashlib.sha256(hashlib.sha256(decode).digest()).digest()\n",
    "    #check if the checksum is the same as the first 4 bytes of the hash_decode\n",
    "    if checksum == hash_decode[:4]:\n",
    "        return True\n",
    "    else:\n",
    "        return False\n",
    "\n",
    "\n"
   ]
  },
  {
   "cell_type": "code",
   "execution_count": 3,
   "metadata": {},
   "outputs": [
    {
     "name": "stdout",
     "output_type": "stream",
     "text": [
      "34\n"
     ]
    }
   ],
   "source": [
    "check_bitcoin_address('3Gpex6g5FPmYWm26myFq7dW12ntd8zMcCY')\n",
    "\n",
    "print(len('3Gpex6g5FPmYWm26myFq7dW12ntd8zMcCY'))"
   ]
  }
 ],
 "metadata": {
  "kernelspec": {
   "display_name": "Python 3",
   "language": "python",
   "name": "python3"
  },
  "language_info": {
   "codemirror_mode": {
    "name": "ipython",
    "version": 3
   },
   "file_extension": ".py",
   "mimetype": "text/x-python",
   "name": "python",
   "nbconvert_exporter": "python",
   "pygments_lexer": "ipython3",
   "version": "3.6.8"
  },
  "orig_nbformat": 4,
  "vscode": {
   "interpreter": {
    "hash": "e4155384af5840d15d68e8597407fad2e99d1893f7ce8c3788bc9723b5f2c767"
   }
  }
 },
 "nbformat": 4,
 "nbformat_minor": 2
}
