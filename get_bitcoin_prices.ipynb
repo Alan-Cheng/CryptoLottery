{
 "cells": [
  {
   "cell_type": "code",
   "execution_count": 1,
   "metadata": {},
   "outputs": [
    {
     "name": "stdout",
     "output_type": "stream",
     "text": [
      "727012\n"
     ]
    }
   ],
   "source": [
    "# get real time bitcoin prices from coinbase\n",
    "\n",
    "import requests\n",
    "import json\n",
    "import pandas as pd\n",
    "import time\n",
    "import datetime\n",
    "\n",
    "def get_bitcoin_price():\n",
    "    # get current time\n",
    "    now = datetime.datetime.now()\n",
    "    now = now.strftime(\"%Y-%m-%d %H:%M:%S\")\n",
    "\n",
    "    # get bitcoin price from coinbase\n",
    "    r = requests.get('https://api.coinbase.com/v2/prices/BTC-TWD/spot')\n",
    "    data = r.json()\n",
    "    price = data['data']['amount']\n",
    "\n",
    "    # create dataframe\n",
    "    df = pd.DataFrame({'time': [now], 'price': [price]})\n",
    "    df['time'] = pd.to_datetime(df['time'])\n",
    "\n",
    "    return df['price'][0]\n",
    "\n",
    "real_time_prices = get_bitcoin_price()\n",
    "\n",
    "print(int(float(real_time_prices)))"
   ]
  }
 ],
 "metadata": {
  "kernelspec": {
   "display_name": "Python 3",
   "language": "python",
   "name": "python3"
  },
  "language_info": {
   "codemirror_mode": {
    "name": "ipython",
    "version": 3
   },
   "file_extension": ".py",
   "mimetype": "text/x-python",
   "name": "python",
   "nbconvert_exporter": "python",
   "pygments_lexer": "ipython3",
   "version": "3.10.10"
  },
  "orig_nbformat": 4,
  "vscode": {
   "interpreter": {
    "hash": "7b1f2b33e866b0bf2409397e5f58ba9cdf170d3b7f64c8f359c79998e2f88ad4"
   }
  }
 },
 "nbformat": 4,
 "nbformat_minor": 2
}
